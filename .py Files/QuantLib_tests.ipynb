{
 "cells": [
  {
   "cell_type": "code",
   "execution_count": null,
   "metadata": {
    "collapsed": true
   },
   "outputs": [],
   "source": [
    "import QuantLib as ql\n",
    "import matplotlib.pyplot as plt\n",
    "import numpy as np\n",
    "from scipy.integrate import simps, cumtrapz, romb\n",
    "import math"
   ]
  },
  {
   "cell_type": "code",
   "execution_count": null,
   "outputs": [],
   "source": [
    "strike_price = 110.0\n",
    "payoff = ql.PlainVanillaPayoff(ql.Option.Call, strike_price)\n",
    "\n",
    "maturity = ql.Date(15, 1, 2016)\n",
    "S = 127.62\n",
    "K = 130\n",
    "Vol = 0.20\n",
    "q = 0.0163\n",
    "type = ql.Option.Call\n",
    "r = 0.001\n",
    "day_count = ql.Actual365Fixed()\n",
    "calendar = ql.UnitedStates()\n",
    "\n",
    "calc_date = ql.Date(8, 5, 2015)\n",
    "ql.Settings.instance().evaluationDate = calc_date"
   ],
   "metadata": {
    "collapsed": false,
    "pycharm": {
     "name": "#%%\n"
    }
   }
  },
  {
   "cell_type": "code",
   "execution_count": null,
   "outputs": [],
   "source": [
    "payoff = ql.PlainVanillaPayoff(type, S)\n",
    "exercise = ql.EuropeanExercise(maturity)\n",
    "euro_option = ql.VanillaOption(payoff, exercise)"
   ],
   "metadata": {
    "collapsed": false,
    "pycharm": {
     "name": "#%%\n"
    }
   }
  },
  {
   "cell_type": "code",
   "execution_count": null,
   "outputs": [],
   "source": [
    "v0 = Vol*Vol\n",
    "kappa = 0.1\n",
    "theta = v0\n",
    "sigma = 0.1\n",
    "rho = -0.75\n",
    "spot_handle = ql.QuoteHandle(ql.SimpleQuote(S))\n",
    "flat_ts = ql.YieldTermStructureHandle(ql.FlatForward(calc_date, r, day_count))\n",
    "div = ql.YieldTermStructureHandle(ql.FlatForward(calc_date, q, day_count))\n",
    "heston = ql.HestonProcess(flat_ts, div, spot_handle, v0, kappa, theta, sigma, rho)"
   ],
   "metadata": {
    "collapsed": false,
    "pycharm": {
     "name": "#%%\n"
    }
   }
  },
  {
   "cell_type": "code",
   "execution_count": null,
   "outputs": [],
   "source": [
    "engine = ql.AnalyticHestonEngine(ql.HestonModel(heston), 0.01, 1000)\n",
    "euro_option.setPricingEngine(engine)\n",
    "h_price = euro_option.NPV()\n",
    "print(f'The Heston model price,  {h_price}')"
   ],
   "metadata": {
    "collapsed": false,
    "pycharm": {
     "name": "#%%\n"
    }
   }
  }
 ],
 "metadata": {
  "kernelspec": {
   "display_name": "Python 3",
   "language": "python",
   "name": "python3"
  },
  "language_info": {
   "codemirror_mode": {
    "name": "ipython",
    "version": 2
   },
   "file_extension": ".py",
   "mimetype": "text/x-python",
   "name": "python",
   "nbconvert_exporter": "python",
   "pygments_lexer": "ipython2",
   "version": "2.7.6"
  }
 },
 "nbformat": 4,
 "nbformat_minor": 0
}